{
 "cells": [
  {
   "attachments": {},
   "cell_type": "markdown",
   "metadata": {},
   "source": [
    "# Developing a Credit Default Model Using Supervised Learning\n",
    "By Josh Ho"
   ]
  },
  {
   "attachments": {},
   "cell_type": "markdown",
   "metadata": {},
   "source": [
    "### Project Goal\n",
    "Develop a credit default model that can predict the probability of a borrower defaulting on a line of credit within 2 years. \n",
    "\n",
    "### Steps\n",
    "1. Load Data\n",
    "2. Data Preprocessing\n",
    "3. Exploratory Data Analysis (EDA)\n",
    "4. Feature Engineering\n",
    "5. Model Building\n",
    "6. Model Pipeline\n",
    "7. Model Evaluation & Tuning\n",
    "8. Model Deployment"
   ]
  },
  {
   "cell_type": "markdown",
   "metadata": {},
   "source": [
    "### 1. Load Data"
   ]
  },
  {
   "cell_type": "code",
   "execution_count": 3,
   "metadata": {},
   "outputs": [],
   "source": [
    "# Import modules\n",
    "import pandas as pd\n",
    "import numpy as np\n",
    "from matplotlib import pyplot as plt\n",
    "import seaborn as sns"
   ]
  },
  {
   "cell_type": "code",
   "execution_count": 4,
   "metadata": {},
   "outputs": [
    {
     "data": {
      "text/html": [
       "<div>\n",
       "<style scoped>\n",
       "    .dataframe tbody tr th:only-of-type {\n",
       "        vertical-align: middle;\n",
       "    }\n",
       "\n",
       "    .dataframe tbody tr th {\n",
       "        vertical-align: top;\n",
       "    }\n",
       "\n",
       "    .dataframe thead th {\n",
       "        text-align: right;\n",
       "    }\n",
       "</style>\n",
       "<table border=\"1\" class=\"dataframe\">\n",
       "  <thead>\n",
       "    <tr style=\"text-align: right;\">\n",
       "      <th></th>\n",
       "      <th>Unnamed: 0</th>\n",
       "      <th>SeriousDlqin2yrs</th>\n",
       "      <th>RevolvingUtilizationOfUnsecuredLines</th>\n",
       "      <th>age</th>\n",
       "      <th>NumberOfTime30-59DaysPastDueNotWorse</th>\n",
       "      <th>DebtRatio</th>\n",
       "      <th>MonthlyIncome</th>\n",
       "      <th>NumberOfOpenCreditLinesAndLoans</th>\n",
       "      <th>NumberOfTimes90DaysLate</th>\n",
       "      <th>NumberRealEstateLoansOrLines</th>\n",
       "      <th>NumberOfTime60-89DaysPastDueNotWorse</th>\n",
       "      <th>NumberOfDependents</th>\n",
       "    </tr>\n",
       "  </thead>\n",
       "  <tbody>\n",
       "    <tr>\n",
       "      <th>0</th>\n",
       "      <td>1</td>\n",
       "      <td>1</td>\n",
       "      <td>0.766127</td>\n",
       "      <td>45</td>\n",
       "      <td>2</td>\n",
       "      <td>0.802982</td>\n",
       "      <td>9120.0</td>\n",
       "      <td>13</td>\n",
       "      <td>0</td>\n",
       "      <td>6</td>\n",
       "      <td>0</td>\n",
       "      <td>2.0</td>\n",
       "    </tr>\n",
       "    <tr>\n",
       "      <th>1</th>\n",
       "      <td>2</td>\n",
       "      <td>0</td>\n",
       "      <td>0.957151</td>\n",
       "      <td>40</td>\n",
       "      <td>0</td>\n",
       "      <td>0.121876</td>\n",
       "      <td>2600.0</td>\n",
       "      <td>4</td>\n",
       "      <td>0</td>\n",
       "      <td>0</td>\n",
       "      <td>0</td>\n",
       "      <td>1.0</td>\n",
       "    </tr>\n",
       "    <tr>\n",
       "      <th>2</th>\n",
       "      <td>3</td>\n",
       "      <td>0</td>\n",
       "      <td>0.658180</td>\n",
       "      <td>38</td>\n",
       "      <td>1</td>\n",
       "      <td>0.085113</td>\n",
       "      <td>3042.0</td>\n",
       "      <td>2</td>\n",
       "      <td>1</td>\n",
       "      <td>0</td>\n",
       "      <td>0</td>\n",
       "      <td>0.0</td>\n",
       "    </tr>\n",
       "    <tr>\n",
       "      <th>3</th>\n",
       "      <td>4</td>\n",
       "      <td>0</td>\n",
       "      <td>0.233810</td>\n",
       "      <td>30</td>\n",
       "      <td>0</td>\n",
       "      <td>0.036050</td>\n",
       "      <td>3300.0</td>\n",
       "      <td>5</td>\n",
       "      <td>0</td>\n",
       "      <td>0</td>\n",
       "      <td>0</td>\n",
       "      <td>0.0</td>\n",
       "    </tr>\n",
       "    <tr>\n",
       "      <th>4</th>\n",
       "      <td>5</td>\n",
       "      <td>0</td>\n",
       "      <td>0.907239</td>\n",
       "      <td>49</td>\n",
       "      <td>1</td>\n",
       "      <td>0.024926</td>\n",
       "      <td>63588.0</td>\n",
       "      <td>7</td>\n",
       "      <td>0</td>\n",
       "      <td>1</td>\n",
       "      <td>0</td>\n",
       "      <td>0.0</td>\n",
       "    </tr>\n",
       "  </tbody>\n",
       "</table>\n",
       "</div>"
      ],
      "text/plain": [
       "   Unnamed: 0  SeriousDlqin2yrs  RevolvingUtilizationOfUnsecuredLines  age  \\\n",
       "0           1                 1                              0.766127   45   \n",
       "1           2                 0                              0.957151   40   \n",
       "2           3                 0                              0.658180   38   \n",
       "3           4                 0                              0.233810   30   \n",
       "4           5                 0                              0.907239   49   \n",
       "\n",
       "   NumberOfTime30-59DaysPastDueNotWorse  DebtRatio  MonthlyIncome  \\\n",
       "0                                     2   0.802982         9120.0   \n",
       "1                                     0   0.121876         2600.0   \n",
       "2                                     1   0.085113         3042.0   \n",
       "3                                     0   0.036050         3300.0   \n",
       "4                                     1   0.024926        63588.0   \n",
       "\n",
       "   NumberOfOpenCreditLinesAndLoans  NumberOfTimes90DaysLate  \\\n",
       "0                               13                        0   \n",
       "1                                4                        0   \n",
       "2                                2                        1   \n",
       "3                                5                        0   \n",
       "4                                7                        0   \n",
       "\n",
       "   NumberRealEstateLoansOrLines  NumberOfTime60-89DaysPastDueNotWorse  \\\n",
       "0                             6                                     0   \n",
       "1                             0                                     0   \n",
       "2                             0                                     0   \n",
       "3                             0                                     0   \n",
       "4                             1                                     0   \n",
       "\n",
       "   NumberOfDependents  \n",
       "0                 2.0  \n",
       "1                 1.0  \n",
       "2                 0.0  \n",
       "3                 0.0  \n",
       "4                 0.0  "
      ]
     },
     "execution_count": 4,
     "metadata": {},
     "output_type": "execute_result"
    }
   ],
   "source": [
    "# Load dataset\n",
    "credit = pd.read_csv('../data/credit_data.csv')\n",
    "credit.head()"
   ]
  },
  {
   "cell_type": "code",
   "execution_count": 5,
   "metadata": {},
   "outputs": [
    {
     "name": "stdout",
     "output_type": "stream",
     "text": [
      "(150000, 12)\n",
      "<class 'pandas.core.frame.DataFrame'>\n",
      "RangeIndex: 150000 entries, 0 to 149999\n",
      "Data columns (total 12 columns):\n",
      " #   Column                                Non-Null Count   Dtype  \n",
      "---  ------                                --------------   -----  \n",
      " 0   Unnamed: 0                            150000 non-null  int64  \n",
      " 1   SeriousDlqin2yrs                      150000 non-null  int64  \n",
      " 2   RevolvingUtilizationOfUnsecuredLines  150000 non-null  float64\n",
      " 3   age                                   150000 non-null  int64  \n",
      " 4   NumberOfTime30-59DaysPastDueNotWorse  150000 non-null  int64  \n",
      " 5   DebtRatio                             150000 non-null  float64\n",
      " 6   MonthlyIncome                         120269 non-null  float64\n",
      " 7   NumberOfOpenCreditLinesAndLoans       150000 non-null  int64  \n",
      " 8   NumberOfTimes90DaysLate               150000 non-null  int64  \n",
      " 9   NumberRealEstateLoansOrLines          150000 non-null  int64  \n",
      " 10  NumberOfTime60-89DaysPastDueNotWorse  150000 non-null  int64  \n",
      " 11  NumberOfDependents                    146076 non-null  float64\n",
      "dtypes: float64(4), int64(8)\n",
      "memory usage: 13.7 MB\n"
     ]
    }
   ],
   "source": [
    "print(credit.shape)\n",
    "credit.info()"
   ]
  },
  {
   "cell_type": "markdown",
   "metadata": {},
   "source": [
    "### 2. Data Preprocessing"
   ]
  },
  {
   "attachments": {},
   "cell_type": "markdown",
   "metadata": {},
   "source": [
    "Now that we have a loaded our data in and have an idea of what our data looks like, let us perform some preprocessing by cleaning the data. This will focus on using several techniques to prepare it for our model. These techniques include:\n",
    "- Dropping irrelevant columns\n",
    "- Handling duplicates\n",
    "- Imputing nulls\n",
    "- Renaming columns for interpretability\n",
    "- Handling outliers"
   ]
  },
  {
   "cell_type": "code",
   "execution_count": 6,
   "metadata": {},
   "outputs": [],
   "source": [
    "# Drop irrelevant columns\n",
    "credit = credit.drop(['Unnamed: 0'], axis=1)"
   ]
  },
  {
   "cell_type": "code",
   "execution_count": 7,
   "metadata": {},
   "outputs": [
    {
     "data": {
      "text/plain": [
       "Index(['SeriousDlqin2yrs', 'RevolvingUtilizationOfUnsecuredLines', 'age',\n",
       "       'NumberOfTime30-59DaysPastDueNotWorse', 'DebtRatio', 'MonthlyIncome',\n",
       "       'NumberOfOpenCreditLinesAndLoans', 'NumberOfTimes90DaysLate',\n",
       "       'NumberRealEstateLoansOrLines', 'NumberOfTime60-89DaysPastDueNotWorse',\n",
       "       'NumberOfDependents'],\n",
       "      dtype='object')"
      ]
     },
     "execution_count": 7,
     "metadata": {},
     "output_type": "execute_result"
    }
   ],
   "source": [
    "credit.columns"
   ]
  },
  {
   "cell_type": "code",
   "execution_count": 8,
   "metadata": {},
   "outputs": [],
   "source": [
    "# Rename columns for readability\n",
    "credit.columns = ['Serious_Dlq_in_2yrs', 'Revolving_Utilization_Of_Unsecured_Lines', 'Age',\n",
    "       'Times_30_Days_Late_Not_Worse', 'Debt_Ratio', 'Monthly_Income',\n",
    "       'Number_Open_Credit_Lines', 'Times_90_Days_Late',\n",
    "       'Number_Real_Estate_Loans', 'Times_60_Days_Late_Not_Worse',\n",
    "       'Number_Dependents']\n",
    "\n",
    "# Reorder columns\n",
    "credit = credit[['Age','Monthly_Income','Number_Dependents','Number_Open_Credit_Lines',\n",
    "       'Number_Real_Estate_Loans','Revolving_Utilization_Of_Unsecured_Lines','Debt_Ratio',\n",
    "       'Times_30_Days_Late_Not_Worse','Times_60_Days_Late_Not_Worse','Times_90_Days_Late',\n",
    "       'Serious_Dlq_in_2yrs']]"
   ]
  },
  {
   "cell_type": "code",
   "execution_count": 9,
   "metadata": {},
   "outputs": [
    {
     "name": "stdout",
     "output_type": "stream",
     "text": [
      "609 Duplicates Found\n",
      "Removing Duplicates...\n",
      "0 Duplicates Remaining\n"
     ]
    }
   ],
   "source": [
    "# Check for duplicates\n",
    "print(len(credit[credit.duplicated()]), 'Duplicates Found')\n",
    "\n",
    "# Drop duplicates\n",
    "credit.drop_duplicates(inplace=True)\n",
    "print('Removing Duplicates...')\n",
    "\n",
    "# Confirm removal of duplicates\n",
    "print(len(credit[credit.duplicated()]), 'Duplicates Remaining')"
   ]
  },
  {
   "cell_type": "code",
   "execution_count": 10,
   "metadata": {},
   "outputs": [
    {
     "data": {
      "text/html": [
       "<div>\n",
       "<style scoped>\n",
       "    .dataframe tbody tr th:only-of-type {\n",
       "        vertical-align: middle;\n",
       "    }\n",
       "\n",
       "    .dataframe tbody tr th {\n",
       "        vertical-align: top;\n",
       "    }\n",
       "\n",
       "    .dataframe thead th {\n",
       "        text-align: right;\n",
       "    }\n",
       "</style>\n",
       "<table border=\"1\" class=\"dataframe\">\n",
       "  <thead>\n",
       "    <tr style=\"text-align: right;\">\n",
       "      <th></th>\n",
       "      <th>Column</th>\n",
       "      <th>Number_Of_Nulls</th>\n",
       "      <th>Percentage</th>\n",
       "    </tr>\n",
       "  </thead>\n",
       "  <tbody>\n",
       "    <tr>\n",
       "      <th>0</th>\n",
       "      <td>Monthly_Income</td>\n",
       "      <td>29221</td>\n",
       "      <td>0.195601</td>\n",
       "    </tr>\n",
       "    <tr>\n",
       "      <th>1</th>\n",
       "      <td>Number_Dependents</td>\n",
       "      <td>3828</td>\n",
       "      <td>0.025624</td>\n",
       "    </tr>\n",
       "    <tr>\n",
       "      <th>2</th>\n",
       "      <td>Age</td>\n",
       "      <td>0</td>\n",
       "      <td>0.000000</td>\n",
       "    </tr>\n",
       "    <tr>\n",
       "      <th>3</th>\n",
       "      <td>Number_Open_Credit_Lines</td>\n",
       "      <td>0</td>\n",
       "      <td>0.000000</td>\n",
       "    </tr>\n",
       "    <tr>\n",
       "      <th>4</th>\n",
       "      <td>Number_Real_Estate_Loans</td>\n",
       "      <td>0</td>\n",
       "      <td>0.000000</td>\n",
       "    </tr>\n",
       "    <tr>\n",
       "      <th>5</th>\n",
       "      <td>Revolving_Utilization_Of_Unsecured_Lines</td>\n",
       "      <td>0</td>\n",
       "      <td>0.000000</td>\n",
       "    </tr>\n",
       "    <tr>\n",
       "      <th>6</th>\n",
       "      <td>Debt_Ratio</td>\n",
       "      <td>0</td>\n",
       "      <td>0.000000</td>\n",
       "    </tr>\n",
       "    <tr>\n",
       "      <th>7</th>\n",
       "      <td>Times_30_Days_Late_Not_Worse</td>\n",
       "      <td>0</td>\n",
       "      <td>0.000000</td>\n",
       "    </tr>\n",
       "    <tr>\n",
       "      <th>8</th>\n",
       "      <td>Times_60_Days_Late_Not_Worse</td>\n",
       "      <td>0</td>\n",
       "      <td>0.000000</td>\n",
       "    </tr>\n",
       "    <tr>\n",
       "      <th>9</th>\n",
       "      <td>Times_90_Days_Late</td>\n",
       "      <td>0</td>\n",
       "      <td>0.000000</td>\n",
       "    </tr>\n",
       "    <tr>\n",
       "      <th>10</th>\n",
       "      <td>Serious_Dlq_in_2yrs</td>\n",
       "      <td>0</td>\n",
       "      <td>0.000000</td>\n",
       "    </tr>\n",
       "  </tbody>\n",
       "</table>\n",
       "</div>"
      ],
      "text/plain": [
       "                                      Column  Number_Of_Nulls  Percentage\n",
       "0                             Monthly_Income            29221    0.195601\n",
       "1                          Number_Dependents             3828    0.025624\n",
       "2                                        Age                0    0.000000\n",
       "3                   Number_Open_Credit_Lines                0    0.000000\n",
       "4                   Number_Real_Estate_Loans                0    0.000000\n",
       "5   Revolving_Utilization_Of_Unsecured_Lines                0    0.000000\n",
       "6                                 Debt_Ratio                0    0.000000\n",
       "7               Times_30_Days_Late_Not_Worse                0    0.000000\n",
       "8               Times_60_Days_Late_Not_Worse                0    0.000000\n",
       "9                         Times_90_Days_Late                0    0.000000\n",
       "10                       Serious_Dlq_in_2yrs                0    0.000000"
      ]
     },
     "execution_count": 10,
     "metadata": {},
     "output_type": "execute_result"
    }
   ],
   "source": [
    "# Check for nulls\n",
    "null = credit.isnull().sum()\n",
    "check_nulls = pd.DataFrame({\"Column\": null.index, \"Number_Of_Nulls\": null.values,\n",
    "             \"Percentage\": null.values / len(credit)}).sort_values(by='Number_Of_Nulls', ascending=False).reset_index(drop=True)\n",
    "\n",
    "check_nulls"
   ]
  },
  {
   "cell_type": "code",
   "execution_count": 11,
   "metadata": {},
   "outputs": [
    {
     "name": "stdout",
     "output_type": "stream",
     "text": [
      "Median of Monthly Income: 5400.0\n"
     ]
    }
   ],
   "source": [
    "# Significant amount of nulls found in Monthly_Income, impute with median\n",
    "income_median = credit['Monthly_Income'].median()\n",
    "print(f'Median of Monthly Income: {income_median}')\n",
    "\n",
    "credit['Monthly_Income'].fillna(income_median, inplace=True)"
   ]
  },
  {
   "cell_type": "code",
   "execution_count": 12,
   "metadata": {},
   "outputs": [
    {
     "name": "stdout",
     "output_type": "stream",
     "text": [
      "Mode of Dependents: 0.0\n"
     ]
    }
   ],
   "source": [
    "# Significant amount of nulls found in Number_Depedents, impute with mode\n",
    "dependents_mode = credit['Number_Dependents'].mode(dropna=True)\n",
    "print(f'Mode of Dependents: {dependents_mode[0]}')\n",
    "\n",
    "credit['Number_Dependents'].fillna(dependents_mode[0], inplace=True)"
   ]
  },
  {
   "cell_type": "code",
   "execution_count": 13,
   "metadata": {},
   "outputs": [
    {
     "data": {
      "text/plain": [
       "Age                                         0\n",
       "Monthly_Income                              0\n",
       "Number_Dependents                           0\n",
       "Number_Open_Credit_Lines                    0\n",
       "Number_Real_Estate_Loans                    0\n",
       "Revolving_Utilization_Of_Unsecured_Lines    0\n",
       "Debt_Ratio                                  0\n",
       "Times_30_Days_Late_Not_Worse                0\n",
       "Times_60_Days_Late_Not_Worse                0\n",
       "Times_90_Days_Late                          0\n",
       "Serious_Dlq_in_2yrs                         0\n",
       "dtype: int64"
      ]
     },
     "execution_count": 13,
     "metadata": {},
     "output_type": "execute_result"
    }
   ],
   "source": [
    "# Confirm removal of nulls by imputation\n",
    "credit.isna().sum()"
   ]
  },
  {
   "cell_type": "code",
   "execution_count": 14,
   "metadata": {},
   "outputs": [],
   "source": [
    "# Change data types for appropriate columns\n",
    "credit['Number_Dependents'] = credit['Number_Dependents'].astype('int64')\n",
    "credit['Monthly_Income'] = credit['Monthly_Income'].astype('int64')"
   ]
  },
  {
   "cell_type": "code",
   "execution_count": 15,
   "metadata": {},
   "outputs": [
    {
     "name": "stdout",
     "output_type": "stream",
     "text": [
      "Column: Age\n",
      "# of Unique Values: 86\n",
      "Unique Values: [ 45  40  38  30  49  74  57  39  27  51  46  76  64  78  53  43  25  32\n",
      "  58  50  69  24  28  62  42  75  26  52  41  81  31  68  70  73  29  55\n",
      "  35  72  60  67  36  56  37  66  83  34  44  48  61  80  47  59  77  63\n",
      "  54  33  79  65  86  92  23  87  71  22  90  97  84  82  91  89  85  88\n",
      "  21  93  96  99  94  95 101  98 103 102 107 105   0 109]\n",
      "==============================================================\n",
      "Column: Monthly_Income\n",
      "# of Unique Values: 13594\n",
      "Unique Values: [ 9120  2600  3042 ... 15648   521  7647]\n",
      "==============================================================\n",
      "Column: Number_Dependents\n",
      "# of Unique Values: 13\n",
      "Unique Values: [ 2  1  0  3  4  5  6  8  7 20 10  9 13]\n",
      "==============================================================\n",
      "Column: Number_Open_Credit_Lines\n",
      "# of Unique Values: 58\n",
      "Unique Values: [13  4  2  5  7  3  8  9  6 10 14 22 17  1 15 31 12 21 11 19 18 26 20 23\n",
      "  0 16 27 29 28 24 25 32 46 33 30 34 37 38 36 35 54 43 45 49 57 48 40 58\n",
      " 51 52 39 41 56 42 47 50 44 53]\n",
      "==============================================================\n",
      "Column: Number_Real_Estate_Loans\n",
      "# of Unique Values: 28\n",
      "Unique Values: [ 6  0  1  3  4  2  5  8  7  9 17 15 10 12 11 16 26 14 54 21 18 13 23 29\n",
      " 25 19 20 32]\n",
      "==============================================================\n",
      "Column: Revolving_Utilization_Of_Unsecured_Lines\n",
      "# of Unique Values: 125728\n",
      "Unique Values: [0.76612661 0.95715102 0.65818014 ... 0.29974515 0.24604392 0.85028295]\n",
      "==============================================================\n",
      "Column: Debt_Ratio\n",
      "# of Unique Values: 114194\n",
      "Unique Values: [0.80298213 0.1218762  0.08511338 ... 0.40429286 0.71656222 0.24990808]\n",
      "==============================================================\n",
      "Column: Times_30_Days_Late_Not_Worse\n",
      "# of Unique Values: 16\n",
      "Unique Values: [ 2  0  1  3  4  5  7 10  6 98 12  8  9 96 13 11]\n",
      "==============================================================\n",
      "Column: Times_60_Days_Late_Not_Worse\n",
      "# of Unique Values: 13\n",
      "Unique Values: [ 0  1  2  5  3 98  4  6  7  8 96 11  9]\n",
      "==============================================================\n",
      "Column: Times_90_Days_Late\n",
      "# of Unique Values: 19\n",
      "Unique Values: [ 0  1  3  2  5  4 98 10  9  6  7  8 15 96 11 13 14 17 12]\n",
      "==============================================================\n",
      "Column: Serious_Dlq_in_2yrs\n",
      "# of Unique Values: 2\n",
      "Unique Values: [1 0]\n",
      "==============================================================\n"
     ]
    }
   ],
   "source": [
    "# Check unique values\n",
    "def unique_values(df):\n",
    "    columns = df.columns\n",
    "    for col in columns:\n",
    "        print('Column:', col)\n",
    "        print('# of Unique Values:', (len(df[col].unique())))\n",
    "        print('Unique Values:', df[col].unique())\n",
    "        print('==============================================================')\n",
    "    \n",
    "unique_values(credit)"
   ]
  },
  {
   "cell_type": "code",
   "execution_count": 16,
   "metadata": {},
   "outputs": [
    {
     "name": "stdout",
     "output_type": "stream",
     "text": [
      "Column: Age\n",
      "0        1\n",
      "21     162\n",
      "22     368\n",
      "23     592\n",
      "24     783\n",
      "      ... \n",
      "102      3\n",
      "103      3\n",
      "105      1\n",
      "107      1\n",
      "109      2\n",
      "Name: Age, Length: 86, dtype: int64\n",
      "==============================================================\n",
      "Column: Monthly_Income\n",
      "0          1616\n",
      "1           596\n",
      "2             6\n",
      "4             2\n",
      "5             2\n",
      "           ... \n",
      "835040        1\n",
      "1072500       1\n",
      "1560100       1\n",
      "1794060       1\n",
      "3008750       1\n",
      "Name: Monthly_Income, Length: 13594, dtype: int64\n",
      "==============================================================\n",
      "Column: Number_Dependents\n",
      "0     90220\n",
      "1     26314\n",
      "2     19521\n",
      "3      9483\n",
      "4      2862\n",
      "5       746\n",
      "6       158\n",
      "7        51\n",
      "8        24\n",
      "9         5\n",
      "10        5\n",
      "13        1\n",
      "20        1\n",
      "Name: Number_Dependents, dtype: int64\n",
      "==============================================================\n",
      "Column: Number_Open_Credit_Lines\n",
      "0      1712\n",
      "1      4251\n",
      "2      6558\n",
      "3      8992\n",
      "4     11566\n",
      "5     12916\n",
      "6     13607\n",
      "7     13242\n",
      "8     12559\n",
      "9     11355\n",
      "10     9623\n",
      "11     8321\n",
      "12     7005\n",
      "13     5667\n",
      "14     4546\n",
      "15     3645\n",
      "16     3000\n",
      "17     2370\n",
      "18     1874\n",
      "19     1433\n",
      "20     1169\n",
      "21      864\n",
      "22      685\n",
      "23      533\n",
      "24      422\n",
      "25      337\n",
      "26      239\n",
      "27      194\n",
      "28      150\n",
      "29      114\n",
      "30       88\n",
      "31       74\n",
      "32       52\n",
      "33       47\n",
      "34       35\n",
      "35       27\n",
      "36       18\n",
      "37        7\n",
      "38       13\n",
      "39        9\n",
      "40       10\n",
      "41        4\n",
      "42        8\n",
      "43        8\n",
      "44        2\n",
      "45        8\n",
      "46        3\n",
      "47        2\n",
      "48        6\n",
      "49        4\n",
      "50        2\n",
      "51        2\n",
      "52        3\n",
      "53        1\n",
      "54        4\n",
      "56        2\n",
      "57        2\n",
      "58        1\n",
      "Name: Number_Open_Credit_Lines, dtype: int64\n",
      "==============================================================\n",
      "Column: Number_Real_Estate_Loans\n",
      "0     55579\n",
      "1     52338\n",
      "2     31522\n",
      "3      6300\n",
      "4      2170\n",
      "5       689\n",
      "6       320\n",
      "7       171\n",
      "8        93\n",
      "9        78\n",
      "10       37\n",
      "11       23\n",
      "12       18\n",
      "13       15\n",
      "14        7\n",
      "15        7\n",
      "16        4\n",
      "17        4\n",
      "18        2\n",
      "19        2\n",
      "20        2\n",
      "21        1\n",
      "23        2\n",
      "25        3\n",
      "26        1\n",
      "29        1\n",
      "32        1\n",
      "54        1\n",
      "Name: Number_Real_Estate_Loans, dtype: int64\n",
      "==============================================================\n",
      "Column: Revolving_Utilization_Of_Unsecured_Lines\n",
      "0.000000        10569\n",
      "0.000008            1\n",
      "0.000010            1\n",
      "0.000013            1\n",
      "0.000014            1\n",
      "                ...  \n",
      "20514.000000        1\n",
      "22000.000000        1\n",
      "22198.000000        1\n",
      "29110.000000        1\n",
      "50708.000000        1\n",
      "Name: Revolving_Utilization_Of_Unsecured_Lines, Length: 125728, dtype: int64\n",
      "==============================================================\n",
      "Column: Debt_Ratio\n",
      "0.000000         3515\n",
      "0.000026            1\n",
      "0.000037            1\n",
      "0.000039            1\n",
      "0.000066            1\n",
      "                 ... \n",
      "168835.000000       1\n",
      "220516.000000       1\n",
      "307001.000000       1\n",
      "326442.000000       1\n",
      "329664.000000       1\n",
      "Name: Debt_Ratio, Length: 114194, dtype: int64\n",
      "==============================================================\n",
      "Column: Times_30_Days_Late_Not_Worse\n",
      "0     125453\n",
      "1      16033\n",
      "2       4598\n",
      "3       1754\n",
      "4        747\n",
      "5        342\n",
      "6        140\n",
      "7         54\n",
      "8         25\n",
      "9         12\n",
      "10         4\n",
      "11         1\n",
      "12         2\n",
      "13         1\n",
      "96         5\n",
      "98       220\n",
      "Name: Times_30_Days_Late_Not_Worse, dtype: int64\n",
      "==============================================================\n",
      "Column: Times_60_Days_Late_Not_Worse\n",
      "0     141831\n",
      "1       5731\n",
      "2       1118\n",
      "3        318\n",
      "4        105\n",
      "5         34\n",
      "6         16\n",
      "7          9\n",
      "8          2\n",
      "9          1\n",
      "11         1\n",
      "96         5\n",
      "98       220\n",
      "Name: Times_60_Days_Late_Not_Worse, dtype: int64\n",
      "==============================================================\n",
      "Column: Times_90_Days_Late\n",
      "0     141108\n",
      "1       5232\n",
      "2       1555\n",
      "3        667\n",
      "4        291\n",
      "5        131\n",
      "6         80\n",
      "7         38\n",
      "8         21\n",
      "9         19\n",
      "10         8\n",
      "11         5\n",
      "12         2\n",
      "13         4\n",
      "14         2\n",
      "15         2\n",
      "17         1\n",
      "96         5\n",
      "98       220\n",
      "Name: Times_90_Days_Late, dtype: int64\n",
      "==============================================================\n",
      "Column: Serious_Dlq_in_2yrs\n",
      "0    139382\n",
      "1     10009\n",
      "Name: Serious_Dlq_in_2yrs, dtype: int64\n",
      "==============================================================\n"
     ]
    }
   ],
   "source": [
    "# Check value counts\n",
    "def value_counts(df):\n",
    "    columns = df.columns\n",
    "    for col in columns:\n",
    "        print('Column:', col)\n",
    "        print(df[col].value_counts().sort_index())\n",
    "        print('==============================================================')\n",
    "    \n",
    "value_counts(credit)"
   ]
  },
  {
   "attachments": {},
   "cell_type": "markdown",
   "metadata": {},
   "source": [
    "#### Descriptive Statistics"
   ]
  },
  {
   "cell_type": "code",
   "execution_count": 17,
   "metadata": {},
   "outputs": [
    {
     "data": {
      "text/html": [
       "<div>\n",
       "<style scoped>\n",
       "    .dataframe tbody tr th:only-of-type {\n",
       "        vertical-align: middle;\n",
       "    }\n",
       "\n",
       "    .dataframe tbody tr th {\n",
       "        vertical-align: top;\n",
       "    }\n",
       "\n",
       "    .dataframe thead th {\n",
       "        text-align: right;\n",
       "    }\n",
       "</style>\n",
       "<table border=\"1\" class=\"dataframe\">\n",
       "  <thead>\n",
       "    <tr style=\"text-align: right;\">\n",
       "      <th></th>\n",
       "      <th>Age</th>\n",
       "      <th>Monthly_Income</th>\n",
       "      <th>Number_Dependents</th>\n",
       "      <th>Number_Open_Credit_Lines</th>\n",
       "      <th>Number_Real_Estate_Loans</th>\n",
       "      <th>Revolving_Utilization_Of_Unsecured_Lines</th>\n",
       "      <th>Debt_Ratio</th>\n",
       "      <th>Times_30_Days_Late_Not_Worse</th>\n",
       "      <th>Times_60_Days_Late_Not_Worse</th>\n",
       "      <th>Times_90_Days_Late</th>\n",
       "      <th>Serious_Dlq_in_2yrs</th>\n",
       "    </tr>\n",
       "  </thead>\n",
       "  <tbody>\n",
       "    <tr>\n",
       "      <th>count</th>\n",
       "      <td>149391.000000</td>\n",
       "      <td>1.493910e+05</td>\n",
       "      <td>149391.000000</td>\n",
       "      <td>149391.000000</td>\n",
       "      <td>149391.000000</td>\n",
       "      <td>149391.000000</td>\n",
       "      <td>149391.000000</td>\n",
       "      <td>149391.000000</td>\n",
       "      <td>149391.000000</td>\n",
       "      <td>149391.000000</td>\n",
       "      <td>149391.000000</td>\n",
       "    </tr>\n",
       "    <tr>\n",
       "      <th>mean</th>\n",
       "      <td>52.306237</td>\n",
       "      <td>6.425688e+03</td>\n",
       "      <td>0.740393</td>\n",
       "      <td>8.480892</td>\n",
       "      <td>1.022391</td>\n",
       "      <td>6.071087</td>\n",
       "      <td>354.436740</td>\n",
       "      <td>0.393886</td>\n",
       "      <td>0.212503</td>\n",
       "      <td>0.238120</td>\n",
       "      <td>0.066999</td>\n",
       "    </tr>\n",
       "    <tr>\n",
       "      <th>std</th>\n",
       "      <td>14.725962</td>\n",
       "      <td>1.291567e+04</td>\n",
       "      <td>1.108272</td>\n",
       "      <td>5.136515</td>\n",
       "      <td>1.130196</td>\n",
       "      <td>250.263672</td>\n",
       "      <td>2041.843455</td>\n",
       "      <td>3.852953</td>\n",
       "      <td>3.810523</td>\n",
       "      <td>3.826165</td>\n",
       "      <td>0.250021</td>\n",
       "    </tr>\n",
       "    <tr>\n",
       "      <th>min</th>\n",
       "      <td>0.000000</td>\n",
       "      <td>0.000000e+00</td>\n",
       "      <td>0.000000</td>\n",
       "      <td>0.000000</td>\n",
       "      <td>0.000000</td>\n",
       "      <td>0.000000</td>\n",
       "      <td>0.000000</td>\n",
       "      <td>0.000000</td>\n",
       "      <td>0.000000</td>\n",
       "      <td>0.000000</td>\n",
       "      <td>0.000000</td>\n",
       "    </tr>\n",
       "    <tr>\n",
       "      <th>25%</th>\n",
       "      <td>41.000000</td>\n",
       "      <td>3.900000e+03</td>\n",
       "      <td>0.000000</td>\n",
       "      <td>5.000000</td>\n",
       "      <td>0.000000</td>\n",
       "      <td>0.030132</td>\n",
       "      <td>0.177441</td>\n",
       "      <td>0.000000</td>\n",
       "      <td>0.000000</td>\n",
       "      <td>0.000000</td>\n",
       "      <td>0.000000</td>\n",
       "    </tr>\n",
       "    <tr>\n",
       "      <th>50%</th>\n",
       "      <td>52.000000</td>\n",
       "      <td>5.400000e+03</td>\n",
       "      <td>0.000000</td>\n",
       "      <td>8.000000</td>\n",
       "      <td>1.000000</td>\n",
       "      <td>0.154235</td>\n",
       "      <td>0.368234</td>\n",
       "      <td>0.000000</td>\n",
       "      <td>0.000000</td>\n",
       "      <td>0.000000</td>\n",
       "      <td>0.000000</td>\n",
       "    </tr>\n",
       "    <tr>\n",
       "      <th>75%</th>\n",
       "      <td>63.000000</td>\n",
       "      <td>7.400000e+03</td>\n",
       "      <td>1.000000</td>\n",
       "      <td>11.000000</td>\n",
       "      <td>2.000000</td>\n",
       "      <td>0.556494</td>\n",
       "      <td>0.875279</td>\n",
       "      <td>0.000000</td>\n",
       "      <td>0.000000</td>\n",
       "      <td>0.000000</td>\n",
       "      <td>0.000000</td>\n",
       "    </tr>\n",
       "    <tr>\n",
       "      <th>max</th>\n",
       "      <td>109.000000</td>\n",
       "      <td>3.008750e+06</td>\n",
       "      <td>20.000000</td>\n",
       "      <td>58.000000</td>\n",
       "      <td>54.000000</td>\n",
       "      <td>50708.000000</td>\n",
       "      <td>329664.000000</td>\n",
       "      <td>98.000000</td>\n",
       "      <td>98.000000</td>\n",
       "      <td>98.000000</td>\n",
       "      <td>1.000000</td>\n",
       "    </tr>\n",
       "  </tbody>\n",
       "</table>\n",
       "</div>"
      ],
      "text/plain": [
       "                 Age  Monthly_Income  Number_Dependents  \\\n",
       "count  149391.000000    1.493910e+05      149391.000000   \n",
       "mean       52.306237    6.425688e+03           0.740393   \n",
       "std        14.725962    1.291567e+04           1.108272   \n",
       "min         0.000000    0.000000e+00           0.000000   \n",
       "25%        41.000000    3.900000e+03           0.000000   \n",
       "50%        52.000000    5.400000e+03           0.000000   \n",
       "75%        63.000000    7.400000e+03           1.000000   \n",
       "max       109.000000    3.008750e+06          20.000000   \n",
       "\n",
       "       Number_Open_Credit_Lines  Number_Real_Estate_Loans  \\\n",
       "count             149391.000000             149391.000000   \n",
       "mean                   8.480892                  1.022391   \n",
       "std                    5.136515                  1.130196   \n",
       "min                    0.000000                  0.000000   \n",
       "25%                    5.000000                  0.000000   \n",
       "50%                    8.000000                  1.000000   \n",
       "75%                   11.000000                  2.000000   \n",
       "max                   58.000000                 54.000000   \n",
       "\n",
       "       Revolving_Utilization_Of_Unsecured_Lines     Debt_Ratio  \\\n",
       "count                             149391.000000  149391.000000   \n",
       "mean                                   6.071087     354.436740   \n",
       "std                                  250.263672    2041.843455   \n",
       "min                                    0.000000       0.000000   \n",
       "25%                                    0.030132       0.177441   \n",
       "50%                                    0.154235       0.368234   \n",
       "75%                                    0.556494       0.875279   \n",
       "max                                50708.000000  329664.000000   \n",
       "\n",
       "       Times_30_Days_Late_Not_Worse  Times_60_Days_Late_Not_Worse  \\\n",
       "count                 149391.000000                 149391.000000   \n",
       "mean                       0.393886                      0.212503   \n",
       "std                        3.852953                      3.810523   \n",
       "min                        0.000000                      0.000000   \n",
       "25%                        0.000000                      0.000000   \n",
       "50%                        0.000000                      0.000000   \n",
       "75%                        0.000000                      0.000000   \n",
       "max                       98.000000                     98.000000   \n",
       "\n",
       "       Times_90_Days_Late  Serious_Dlq_in_2yrs  \n",
       "count       149391.000000        149391.000000  \n",
       "mean             0.238120             0.066999  \n",
       "std              3.826165             0.250021  \n",
       "min              0.000000             0.000000  \n",
       "25%              0.000000             0.000000  \n",
       "50%              0.000000             0.000000  \n",
       "75%              0.000000             0.000000  \n",
       "max             98.000000             1.000000  "
      ]
     },
     "execution_count": 17,
     "metadata": {},
     "output_type": "execute_result"
    }
   ],
   "source": [
    "# Check descriptive statistics\n",
    "credit.describe()"
   ]
  },
  {
   "cell_type": "code",
   "execution_count": 18,
   "metadata": {},
   "outputs": [
    {
     "data": {
      "image/png": "[encoded data removed]",
      "text/plain": [
       "<Figure size 1440x864 with 12 Axes>"
      ]
     },
     "metadata": {
      "needs_background": "light"
     },
     "output_type": "display_data"
    }
   ],
   "source": [
    "# Visualize descriptive statistics\n",
    "credit.hist(figsize=(20,12));"
   ]
  },
  {
   "cell_type": "code",
   "execution_count": 19,
   "metadata": {},
   "outputs": [
    {
     "data": {
      "image/png": "[encoded data removed]",
      "text/plain": [
       "<Figure size 1440x864 with 1 Axes>"
      ]
     },
     "metadata": {
      "needs_background": "light"
     },
     "output_type": "display_data"
    }
   ],
   "source": [
    "# Check for outliers \n",
    "credit.plot.box(figsize=(20,12), vert=False);"
   ]
  },
  {
   "cell_type": "code",
   "execution_count": 20,
   "metadata": {},
   "outputs": [],
   "source": [
    "# Export cleaned DataFrame to csv\n",
    "credit.to_csv('../data/credit_c.csv', index=False)"
   ]
  },
  {
   "cell_type": "markdown",
   "metadata": {},
   "source": [
    "### 3. EDA"
   ]
  },
  {
   "cell_type": "markdown",
   "metadata": {},
   "source": [
    "We can visualize the statistics of the dataset using histograms and bar graphs to help interpret the data. We can conduct analysis on statistics such as:\n",
    "- The balance of classes\n",
    "- The distribution of ages that did not default\n",
    "- The distribution of ages that did default\n",
    "- Number of children\n",
    "- Number of real estate loans\n",
    "- Number of credit lines\n",
    "- Total number of debt accounts opened"
   ]
  },
  {
   "cell_type": "markdown",
   "metadata": {},
   "source": [
    "#### Balance of Classes"
   ]
  },
  {
   "cell_type": "code",
   "execution_count": 21,
   "metadata": {},
   "outputs": [
    {
     "name": "stdout",
     "output_type": "stream",
     "text": [
      "Percent of Inviduals Who Defaulted: 0.067%\n"
     ]
    },
    {
     "data": {
      "image/png": "[encoded data removed]",
      "text/plain": [
       "<Figure size 1080x720 with 1 Axes>"
      ]
     },
     "metadata": {},
     "output_type": "display_data"
    }
   ],
   "source": [
    "sns.set(rc={'figure.figsize':(15,10)}) # Set figure size\n",
    "\n",
    "plot = sns.countplot(x=credit['Serious_Dlq_in_2yrs'], data=credit)\n",
    "plot.set(xlabel='Number of Individuals Who Defaulted')\n",
    "\n",
    "default = round(credit.Serious_Dlq_in_2yrs.sum()/len(credit), 4)\n",
    "print(f'Percent of Inviduals Who Defaulted: {default}%')"
   ]
  },
  {
   "attachments": {},
   "cell_type": "markdown",
   "metadata": {},
   "source": [
    "#### Distribution of Ages That Did Not Default"
   ]
  },
  {
   "cell_type": "code",
   "execution_count": 22,
   "metadata": {},
   "outputs": [
    {
     "data": {
      "image/png": "[encoded data removed]",
      "text/plain": [
       "<Figure size 1080x720 with 1 Axes>"
      ]
     },
     "metadata": {},
     "output_type": "display_data"
    }
   ],
   "source": [
    "sns.histplot(credit.loc[credit['Serious_Dlq_in_2yrs'] == 0][\"Age\"], kde=True);"
   ]
  },
  {
   "attachments": {},
   "cell_type": "markdown",
   "metadata": {},
   "source": [
    "#### Distribution of Ages That Did Default"
   ]
  },
  {
   "cell_type": "code",
   "execution_count": 23,
   "metadata": {},
   "outputs": [
    {
     "data": {
      "image/png": "[encoded data removed]",
      "text/plain": [
       "<Figure size 1080x720 with 1 Axes>"
      ]
     },
     "metadata": {},
     "output_type": "display_data"
    }
   ],
   "source": [
    "sns.histplot(credit.loc[credit['Serious_Dlq_in_2yrs'] == 1][\"Age\"], kde=True);"
   ]
  },
  {
   "cell_type": "markdown",
   "metadata": {},
   "source": [
    "#### Number of Children"
   ]
  },
  {
   "cell_type": "code",
   "execution_count": 24,
   "metadata": {},
   "outputs": [
    {
     "data": {
      "image/png": "[encoded data removed]",
      "text/plain": [
       "<Figure size 1080x720 with 1 Axes>"
      ]
     },
     "metadata": {},
     "output_type": "display_data"
    }
   ],
   "source": [
    "plot = sns.countplot(x=credit['Number_Dependents'], data=credit)\n",
    "plot.set(xlabel='Number of Children');"
   ]
  },
  {
   "cell_type": "markdown",
   "metadata": {},
   "source": [
    "#### Number of Real Estate Loans"
   ]
  },
  {
   "cell_type": "code",
   "execution_count": 25,
   "metadata": {},
   "outputs": [
    {
     "data": {
      "image/png": "[encoded data removed]",
      "text/plain": [
       "<Figure size 1080x720 with 1 Axes>"
      ]
     },
     "metadata": {},
     "output_type": "display_data"
    }
   ],
   "source": [
    "plot = sns.countplot(x=credit['Number_Real_Estate_Loans'], data=credit)\n",
    "plot.set(xlabel='Number of Real Estate Loans');"
   ]
  },
  {
   "attachments": {},
   "cell_type": "markdown",
   "metadata": {},
   "source": [
    "#### Number of Credit Lines Opened"
   ]
  },
  {
   "cell_type": "code",
   "execution_count": 26,
   "metadata": {},
   "outputs": [
    {
     "data": {
      "image/png": "[encoded data removed]",
      "text/plain": [
       "<Figure size 1080x720 with 1 Axes>"
      ]
     },
     "metadata": {},
     "output_type": "display_data"
    }
   ],
   "source": [
    "plot = sns.countplot(x=credit['Number_Open_Credit_Lines'], data=credit)\n",
    "plot.set(xlabel='Number of Credit Lines Opened');"
   ]
  },
  {
   "attachments": {},
   "cell_type": "markdown",
   "metadata": {},
   "source": [
    "#### Total Number of Debt Accounts Opened"
   ]
  },
  {
   "cell_type": "code",
   "execution_count": 27,
   "metadata": {},
   "outputs": [
    {
     "data": {
      "image/png": "[encoded data removed]",
      "text/plain": [
       "<Figure size 1080x720 with 1 Axes>"
      ]
     },
     "metadata": {},
     "output_type": "display_data"
    }
   ],
   "source": [
    "plot = sns.countplot(x=credit['Number_Open_Credit_Lines']+credit['Number_Real_Estate_Loans'], data=credit)\n",
    "plot.set(xlabel='Number of Debt Accounts Opened');"
   ]
  },
  {
   "cell_type": "markdown",
   "metadata": {},
   "source": [
    "### 4. Feature Engineering"
   ]
  },
  {
   "cell_type": "code",
   "execution_count": 30,
   "metadata": {},
   "outputs": [
    {
     "data": {
      "text/plain": [
       "Index(['Age', 'Monthly_Income', 'Number_Dependents',\n",
       "       'Number_Open_Credit_Lines', 'Number_Real_Estate_Loans',\n",
       "       'Revolving_Utilization_Of_Unsecured_Lines', 'Debt_Ratio',\n",
       "       'Times_30_Days_Late_Not_Worse', 'Times_60_Days_Late_Not_Worse',\n",
       "       'Times_90_Days_Late', 'Serious_Dlq_in_2yrs'],\n",
       "      dtype='object')"
      ]
     },
     "execution_count": 30,
     "metadata": {},
     "output_type": "execute_result"
    }
   ],
   "source": [
    "credit.columns"
   ]
  },
  {
   "attachments": {},
   "cell_type": "markdown",
   "metadata": {},
   "source": [
    "### 5. Model Building"
   ]
  },
  {
   "cell_type": "markdown",
   "metadata": {},
   "source": [
    "For our modeling portion, we will isolate and scale the numeric features, then feed the data into 5 different classifiers:\n",
    "- Logistic Regression\n",
    "- K-Nearest Neighbor\n",
    "- Naive Bayes \n",
    "- Random Forest\n",
    "- XGBoost\n",
    "\n",
    "To evaluate our models, we will use:\n",
    "- K-Folds Cross Validation\n",
    "- ROC AUC Score"
   ]
  },
  {
   "cell_type": "code",
   "execution_count": 32,
   "metadata": {},
   "outputs": [],
   "source": [
    "# Import modules\n",
    "from sklearn.preprocessing import StandardScaler, MinMaxScaler\n",
    "from sklearn.model_selection import train_test_split\n",
    "from sklearn.linear_model import LogisticRegression\n",
    "from sklearn.neighbors import KNeighborsClassifier\n",
    "from sklearn.naive_bayes import GaussianNB, MultinomialNB\n",
    "from sklearn.tree import DecisionTreeClassifier\n",
    "from sklearn.ensemble import RandomForestClassifier\n",
    "from xgboost import XGBClassifier\n",
    "from sklearn.metrics import roc_auc_score\n",
    "from sklearn.model_selection import StratifiedKFold\n",
    "from sklearn.model_selection import cross_val_score\n",
    "\n",
    "from sklearn.model_selection import GridSearchCV\n",
    "from sklearn.pipeline import Pipeline\n",
    "from sklearn.compose import ColumnTransformer\n",
    "from sklearn.impute import SimpleImputer\n",
    "import pickle as pkl"
   ]
  },
  {
   "cell_type": "code",
   "execution_count": 33,
   "metadata": {},
   "outputs": [
    {
     "name": "stdout",
     "output_type": "stream",
     "text": [
      "X training shape: (119512, 10)\n",
      "X test shape: (29879, 10)\n",
      "y training shape: (119512,)\n",
      "y test shape: (29879,)\n"
     ]
    }
   ],
   "source": [
    "# Isolate target variable and scale independent variables\n",
    "scaler = MinMaxScaler()\n",
    "# scaler = StandardScaler()\n",
    "\n",
    "X = pd.DataFrame(scaler.fit_transform(credit.iloc[:,0:-1]), columns=credit.iloc[:,0:-1].columns)\n",
    "y = credit.iloc[:,-1]\n",
    "\n",
    "# Create train and test sets\n",
    "X_train, X_test, y_train, y_test = train_test_split(X, y, test_size=0.2, random_state=42, stratify=y)\n",
    "\n",
    "print(\"X training shape:\", X_train.shape)\n",
    "print(\"X test shape:\", X_test.shape)\n",
    "print(\"y training shape:\", y_train.shape)\n",
    "print(\"y test shape:\", y_test.shape)"
   ]
  },
  {
   "attachments": {},
   "cell_type": "markdown",
   "metadata": {},
   "source": [
    "#### Model Baselines\n",
    "Let's first set and look at our models baselines, checking for model performance without any hyperparameter tuning."
   ]
  },
  {
   "cell_type": "code",
   "execution_count": null,
   "metadata": {},
   "outputs": [],
   "source": [
    "def classifiers():\n",
    "    clfs = []\n",
    "    clfs.append(('LR', LogisticRegression()))\n",
    "    clfs.append(('KN', KNeighborsClassifier()))\n",
    "    clfs.append(('NB', GaussianNB()))\n",
    "    clfs.append(('RF', RandomForestClassifier()))\n",
    "    clfs.append(('XG', XGBClassifier()))\n",
    "\n",
    "    return clfs"
   ]
  },
  {
   "cell_type": "code",
   "execution_count": null,
   "metadata": {},
   "outputs": [],
   "source": [
    "def baseline_evaluation(X_train, y_train,models):\n",
    "    results = []\n",
    "    names = []\n",
    "    for name, model in models:\n",
    "        kfold = StratifiedKFold(n_splits=5)\n",
    "        cv_results = cross_val_score(model, X_train, y_train, cv=kfold, scoring='roc_auc')\n",
    "        results.append(cv_results)\n",
    "        names.append(name)\n",
    "        msg = \"%s: %f (%f)\" % (name, cv_results.mean(), cv_results.std())\n",
    "        \n",
    "    return names, results"
   ]
  },
  {
   "cell_type": "code",
   "execution_count": null,
   "metadata": {},
   "outputs": [],
   "source": [
    "def score_df(names,results):\n",
    "    def floating_decimals(f_val, dec=3):\n",
    "        prc = \"{:.\"+str(dec)+\"f}\" \n",
    "    \n",
    "        return float(prc.format(f_val))\n",
    "\n",
    "    scores = []\n",
    "    for r in results:\n",
    "        scores.append(floating_decimals(r.mean(),4)*100)\n",
    "\n",
    "    score_df = pd.DataFrame({'Model':names, 'Score': scores})\n",
    "    return score_df"
   ]
  },
  {
   "cell_type": "code",
   "execution_count": null,
   "metadata": {},
   "outputs": [
    {
     "data": {
      "text/html": [
       "<div>\n",
       "<style scoped>\n",
       "    .dataframe tbody tr th:only-of-type {\n",
       "        vertical-align: middle;\n",
       "    }\n",
       "\n",
       "    .dataframe tbody tr th {\n",
       "        vertical-align: top;\n",
       "    }\n",
       "\n",
       "    .dataframe thead th {\n",
       "        text-align: right;\n",
       "    }\n",
       "</style>\n",
       "<table border=\"1\" class=\"dataframe\">\n",
       "  <thead>\n",
       "    <tr style=\"text-align: right;\">\n",
       "      <th></th>\n",
       "      <th>Model</th>\n",
       "      <th>Score</th>\n",
       "    </tr>\n",
       "  </thead>\n",
       "  <tbody>\n",
       "    <tr>\n",
       "      <th>0</th>\n",
       "      <td>LR</td>\n",
       "      <td>67.57</td>\n",
       "    </tr>\n",
       "    <tr>\n",
       "      <th>1</th>\n",
       "      <td>KN</td>\n",
       "      <td>66.61</td>\n",
       "    </tr>\n",
       "    <tr>\n",
       "      <th>2</th>\n",
       "      <td>NB</td>\n",
       "      <td>71.72</td>\n",
       "    </tr>\n",
       "    <tr>\n",
       "      <th>3</th>\n",
       "      <td>RF</td>\n",
       "      <td>83.75</td>\n",
       "    </tr>\n",
       "    <tr>\n",
       "      <th>4</th>\n",
       "      <td>XG</td>\n",
       "      <td>85.84</td>\n",
       "    </tr>\n",
       "  </tbody>\n",
       "</table>\n",
       "</div>"
      ],
      "text/plain": [
       "  Model  Score\n",
       "0    LR  67.57\n",
       "1    KN  66.61\n",
       "2    NB  71.72\n",
       "3    RF  83.75\n",
       "4    XG  85.84"
      ]
     },
     "execution_count": 61,
     "metadata": {},
     "output_type": "execute_result"
    }
   ],
   "source": [
    "models = classifiers()\n",
    "names, results = baseline_evaluation(X_train, y_train, models)\n",
    "baseline_scores = score_df(names, results)\n",
    "baseline_scores"
   ]
  },
  {
   "attachments": {},
   "cell_type": "markdown",
   "metadata": {},
   "source": [
    "#### Model Pipeline & Optimization\n",
    "Now that we have our baselines, let's set up our pipeline to make our machine learning process more efficient. Further more we will set up multiple hyperparameters for the 5 classifers we are using, then plug both the pipeline and the list of hyperparameters into GridSearch for optimization."
   ]
  },
  {
   "cell_type": "code",
   "execution_count": null,
   "metadata": {},
   "outputs": [],
   "source": [
    "# Initiaze the classifiers and hyperparameters for each dictionary\n",
    "\n",
    "clf1 = RandomForestClassifier()\n",
    "param1 = {}\n",
    "param1['classifier__n_estimators'] = [10, 50, 100, 250]\n",
    "param1['classifier__max_depth'] = [5, 10, 20]\n",
    "param1['classifier__class_weight'] = [None, {0:1,1:5}, {0:1,1:10}, {0:1,1:25}]\n",
    "param1['classifier'] = [clf1]\n",
    "\n",
    "clf2 = LogisticRegression()\n",
    "param2 = {}\n",
    "param2['classifier__C'] = [10**-2, 10**-1, 10**0, 10**1, 10**2]\n",
    "param2['classifier__penalty'] = ['l2', 'none']\n",
    "param2['classifier__solver'] = ['newton-cg', 'lbfgs', 'sag']\n",
    "param2['classifier__class_weight'] = [None, {0:1,1:5}, {0:1,1:10}, {0:1,1:25}]\n",
    "param2['classifier'] = [clf2]\n",
    "\n",
    "clf3 = DecisionTreeClassifier()\n",
    "param3 = {}\n",
    "param3['classifier__max_depth'] = [5, 10, 25, None]\n",
    "param3['classifier__min_samples_split'] = [2,5,10]\n",
    "param3['classifier__class_weight'] = [None, {0:1,1:5}, {0:1,1:10}, {0:1,1:25}]\n",
    "param3['classifier'] = [clf3]\n",
    "\n",
    "clf4 = KNeighborsClassifier()\n",
    "param4 = {}\n",
    "param4['classifier__n_neighbors'] = [2, 5, 10, 25, 50]\n",
    "param4['classifier__p'] = [1, 2]\n",
    "param4['classifier__leaf_size'] = [1, 5, 10, 15]\n",
    "param4['classifier'] = [clf4]\n",
    "\n",
    "clf5 = MultinomialNB()\n",
    "param5 = {}\n",
    "param5['classifier__alpha'] = [10**0, 10**1, 10**2]\n",
    "param5['classifier'] = [clf5]\n",
    "\n",
    "clf6 = XGBClassifier()\n",
    "param6 = {}\n",
    "param6['classifier__min_child_weight'] = [1, 5, 10]\n",
    "param6['classifier__gamma'] = [0.5, 1, 1.5, 2, 5]\n",
    "param6['classifier__subsample'] = [0.6, 0.8, 1.0]\n",
    "param6['classifier__colsample_bytree'] = [0.6, 0.8, 1.0]\n",
    "param6['classifier__max_depth'] = [3, 4, 5]\n",
    "param6['classifier'] = [clf6]   \n",
    "\n",
    "params = [param1, param2, param3, param4, param5, param6]"
   ]
  },
  {
   "cell_type": "code",
   "execution_count": null,
   "metadata": {},
   "outputs": [],
   "source": [
    "# Create the pipeline\n",
    "pipeline = Pipeline([('classifier', clf1)])"
   ]
  },
  {
   "cell_type": "code",
   "execution_count": null,
   "metadata": {},
   "outputs": [
    {
     "name": "stdout",
     "output_type": "stream",
     "text": [
      "Fitting 3 folds for each of 664 candidates, totalling 1992 fits\n"
     ]
    },
    {
     "data": {
      "text/html": [
       "<style>#sk-container-id-1 {color: black;background-color: white;}#sk-container-id-1 pre{padding: 0;}#sk-container-id-1 div.sk-toggleable {background-color: white;}#sk-container-id-1 label.sk-toggleable__label {cursor: pointer;display: block;width: 100%;margin-bottom: 0;padding: 0.3em;box-sizing: border-box;text-align: center;}#sk-container-id-1 label.sk-toggleable__label-arrow:before {content: \"▸\";float: left;margin-right: 0.25em;color: #696969;}#sk-container-id-1 label.sk-toggleable__label-arrow:hover:before {color: black;}#sk-container-id-1 div.sk-estimator:hover label.sk-toggleable__label-arrow:before {color: black;}#sk-container-id-1 div.sk-toggleable__content {max-height: 0;max-width: 0;overflow: hidden;text-align: left;background-color: #f0f8ff;}#sk-container-id-1 div.sk-toggleable__content pre {margin: 0.2em;color: black;border-radius: 0.25em;background-color: #f0f8ff;}#sk-container-id-1 input.sk-toggleable__control:checked~div.sk-toggleable__content {max-height: 200px;max-width: 100%;overflow: auto;}#sk-container-id-1 input.sk-toggleable__control:checked~label.sk-toggleable__label-arrow:before {content: \"▾\";}#sk-container-id-1 div.sk-estimator input.sk-toggleable__control:checked~label.sk-toggleable__label {background-color: #d4ebff;}#sk-container-id-1 div.sk-label input.sk-toggleable__control:checked~label.sk-toggleable__label {background-color: #d4ebff;}#sk-container-id-1 input.sk-hidden--visually {border: 0;clip: rect(1px 1px 1px 1px);clip: rect(1px, 1px, 1px, 1px);height: 1px;margin: -1px;overflow: hidden;padding: 0;position: absolute;width: 1px;}#sk-container-id-1 div.sk-estimator {font-family: monospace;background-color: #f0f8ff;border: 1px dotted black;border-radius: 0.25em;box-sizing: border-box;margin-bottom: 0.5em;}#sk-container-id-1 div.sk-estimator:hover {background-color: #d4ebff;}#sk-container-id-1 div.sk-parallel-item::after {content: \"\";width: 100%;border-bottom: 1px solid gray;flex-grow: 1;}#sk-container-id-1 div.sk-label:hover label.sk-toggleable__label {background-color: #d4ebff;}#sk-container-id-1 div.sk-serial::before {content: \"\";position: absolute;border-left: 1px solid gray;box-sizing: border-box;top: 0;bottom: 0;left: 50%;z-index: 0;}#sk-container-id-1 div.sk-serial {display: flex;flex-direction: column;align-items: center;background-color: white;padding-right: 0.2em;padding-left: 0.2em;position: relative;}#sk-container-id-1 div.sk-item {position: relative;z-index: 1;}#sk-container-id-1 div.sk-parallel {display: flex;align-items: stretch;justify-content: center;background-color: white;position: relative;}#sk-container-id-1 div.sk-item::before, #sk-container-id-1 div.sk-parallel-item::before {content: \"\";position: absolute;border-left: 1px solid gray;box-sizing: border-box;top: 0;bottom: 0;left: 50%;z-index: -1;}#sk-container-id-1 div.sk-parallel-item {display: flex;flex-direction: column;z-index: 1;position: relative;background-color: white;}#sk-container-id-1 div.sk-parallel-item:first-child::after {align-self: flex-end;width: 50%;}#sk-container-id-1 div.sk-parallel-item:last-child::after {align-self: flex-start;width: 50%;}#sk-container-id-1 div.sk-parallel-item:only-child::after {width: 0;}#sk-container-id-1 div.sk-dashed-wrapped {border: 1px dashed gray;margin: 0 0.4em 0.5em 0.4em;box-sizing: border-box;padding-bottom: 0.4em;background-color: white;}#sk-container-id-1 div.sk-label label {font-family: monospace;font-weight: bold;display: inline-block;line-height: 1.2em;}#sk-container-id-1 div.sk-label-container {text-align: center;}#sk-container-id-1 div.sk-container {/* jupyter's `normalize.less` sets `[hidden] { display: none; }` but bootstrap.min.css set `[hidden] { display: none !important; }` so we also need the `!important` here to be able to override the default hidden behavior on the sphinx rendered scikit-learn.org. See: https://github.com/scikit-learn/scikit-learn/issues/21755 */display: inline-block !important;position: relative;}#sk-container-id-1 div.sk-text-repr-fallback {display: none;}</style><div id=\"sk-container-id-1\" class=\"sk-top-container\"><div class=\"sk-text-repr-fallback\"><pre>GridSearchCV(cv=3,\n",
       "             estimator=Pipeline(steps=[(&#x27;classifier&#x27;,\n",
       "                                        RandomForestClassifier())]),\n",
       "             n_jobs=-1,\n",
       "             param_grid=[{&#x27;classifier&#x27;: [RandomForestClassifier()],\n",
       "                          &#x27;classifier__class_weight&#x27;: [None, {0: 1, 1: 5},\n",
       "                                                       {0: 1, 1: 10},\n",
       "                                                       {0: 1, 1: 25}],\n",
       "                          &#x27;classifier__max_depth&#x27;: [5, 10, 20],\n",
       "                          &#x27;classifier__n_estimators&#x27;: [10, 50, 100, 250]},\n",
       "                         {&#x27;classifier&#x27;: [LogisticRegression()],\n",
       "                          &#x27;classifier__C&#x27;: [0.0...\n",
       "                                                       missing=nan,\n",
       "                                                       monotone_constraints=None,\n",
       "                                                       n_estimators=100,\n",
       "                                                       n_jobs=None,\n",
       "                                                       num_parallel_tree=None,\n",
       "                                                       predictor=None,\n",
       "                                                       random_state=None, ...)],\n",
       "                          &#x27;classifier__colsample_bytree&#x27;: [0.6, 0.8, 1.0],\n",
       "                          &#x27;classifier__gamma&#x27;: [0.5, 1, 1.5, 2, 5],\n",
       "                          &#x27;classifier__max_depth&#x27;: [3, 4, 5],\n",
       "                          &#x27;classifier__min_child_weight&#x27;: [1, 5, 10],\n",
       "                          &#x27;classifier__subsample&#x27;: [0.6, 0.8, 1.0]}],\n",
       "             scoring=&#x27;roc_auc&#x27;, verbose=3)</pre><b>In a Jupyter environment, please rerun this cell to show the HTML representation or trust the notebook. <br />On GitHub, the HTML representation is unable to render, please try loading this page with nbviewer.org.</b></div><div class=\"sk-container\" hidden><div class=\"sk-item sk-dashed-wrapped\"><div class=\"sk-label-container\"><div class=\"sk-label sk-toggleable\"><input class=\"sk-toggleable__control sk-hidden--visually\" id=\"sk-estimator-id-1\" type=\"checkbox\" ><label for=\"sk-estimator-id-1\" class=\"sk-toggleable__label sk-toggleable__label-arrow\">GridSearchCV</label><div class=\"sk-toggleable__content\"><pre>GridSearchCV(cv=3,\n",
       "             estimator=Pipeline(steps=[(&#x27;classifier&#x27;,\n",
       "                                        RandomForestClassifier())]),\n",
       "             n_jobs=-1,\n",
       "             param_grid=[{&#x27;classifier&#x27;: [RandomForestClassifier()],\n",
       "                          &#x27;classifier__class_weight&#x27;: [None, {0: 1, 1: 5},\n",
       "                                                       {0: 1, 1: 10},\n",
       "                                                       {0: 1, 1: 25}],\n",
       "                          &#x27;classifier__max_depth&#x27;: [5, 10, 20],\n",
       "                          &#x27;classifier__n_estimators&#x27;: [10, 50, 100, 250]},\n",
       "                         {&#x27;classifier&#x27;: [LogisticRegression()],\n",
       "                          &#x27;classifier__C&#x27;: [0.0...\n",
       "                                                       missing=nan,\n",
       "                                                       monotone_constraints=None,\n",
       "                                                       n_estimators=100,\n",
       "                                                       n_jobs=None,\n",
       "                                                       num_parallel_tree=None,\n",
       "                                                       predictor=None,\n",
       "                                                       random_state=None, ...)],\n",
       "                          &#x27;classifier__colsample_bytree&#x27;: [0.6, 0.8, 1.0],\n",
       "                          &#x27;classifier__gamma&#x27;: [0.5, 1, 1.5, 2, 5],\n",
       "                          &#x27;classifier__max_depth&#x27;: [3, 4, 5],\n",
       "                          &#x27;classifier__min_child_weight&#x27;: [1, 5, 10],\n",
       "                          &#x27;classifier__subsample&#x27;: [0.6, 0.8, 1.0]}],\n",
       "             scoring=&#x27;roc_auc&#x27;, verbose=3)</pre></div></div></div><div class=\"sk-parallel\"><div class=\"sk-parallel-item\"><div class=\"sk-item\"><div class=\"sk-label-container\"><div class=\"sk-label sk-toggleable\"><input class=\"sk-toggleable__control sk-hidden--visually\" id=\"sk-estimator-id-2\" type=\"checkbox\" ><label for=\"sk-estimator-id-2\" class=\"sk-toggleable__label sk-toggleable__label-arrow\">estimator: Pipeline</label><div class=\"sk-toggleable__content\"><pre>Pipeline(steps=[(&#x27;classifier&#x27;, RandomForestClassifier())])</pre></div></div></div><div class=\"sk-serial\"><div class=\"sk-item\"><div class=\"sk-serial\"><div class=\"sk-item\"><div class=\"sk-estimator sk-toggleable\"><input class=\"sk-toggleable__control sk-hidden--visually\" id=\"sk-estimator-id-3\" type=\"checkbox\" ><label for=\"sk-estimator-id-3\" class=\"sk-toggleable__label sk-toggleable__label-arrow\">RandomForestClassifier</label><div class=\"sk-toggleable__content\"><pre>RandomForestClassifier()</pre></div></div></div></div></div></div></div></div></div></div></div></div>"
      ],
      "text/plain": [
       "GridSearchCV(cv=3,\n",
       "             estimator=Pipeline(steps=[('classifier',\n",
       "                                        RandomForestClassifier())]),\n",
       "             n_jobs=-1,\n",
       "             param_grid=[{'classifier': [RandomForestClassifier()],\n",
       "                          'classifier__class_weight': [None, {0: 1, 1: 5},\n",
       "                                                       {0: 1, 1: 10},\n",
       "                                                       {0: 1, 1: 25}],\n",
       "                          'classifier__max_depth': [5, 10, 20],\n",
       "                          'classifier__n_estimators': [10, 50, 100, 250]},\n",
       "                         {'classifier': [LogisticRegression()],\n",
       "                          'classifier__C': [0.0...\n",
       "                                                       missing=nan,\n",
       "                                                       monotone_constraints=None,\n",
       "                                                       n_estimators=100,\n",
       "                                                       n_jobs=None,\n",
       "                                                       num_parallel_tree=None,\n",
       "                                                       predictor=None,\n",
       "                                                       random_state=None, ...)],\n",
       "                          'classifier__colsample_bytree': [0.6, 0.8, 1.0],\n",
       "                          'classifier__gamma': [0.5, 1, 1.5, 2, 5],\n",
       "                          'classifier__max_depth': [3, 4, 5],\n",
       "                          'classifier__min_child_weight': [1, 5, 10],\n",
       "                          'classifier__subsample': [0.6, 0.8, 1.0]}],\n",
       "             scoring='roc_auc', verbose=3)"
      ]
     },
     "execution_count": 34,
     "metadata": {},
     "output_type": "execute_result"
    }
   ],
   "source": [
    "# Execute grid search on pipeline (20m34s)\n",
    "grid = GridSearchCV(pipeline, params, cv=3, n_jobs=-1, scoring='roc_auc', verbose=3)\n",
    "grid.fit(X_train, y_train)"
   ]
  },
  {
   "cell_type": "code",
   "execution_count": null,
   "metadata": {},
   "outputs": [
    {
     "data": {
      "text/html": [
       "<div>\n",
       "<style scoped>\n",
       "    .dataframe tbody tr th:only-of-type {\n",
       "        vertical-align: middle;\n",
       "    }\n",
       "\n",
       "    .dataframe tbody tr th {\n",
       "        vertical-align: top;\n",
       "    }\n",
       "\n",
       "    .dataframe thead th {\n",
       "        text-align: right;\n",
       "    }\n",
       "</style>\n",
       "<table border=\"1\" class=\"dataframe\">\n",
       "  <thead>\n",
       "    <tr style=\"text-align: right;\">\n",
       "      <th></th>\n",
       "      <th>mean_fit_time</th>\n",
       "      <th>std_fit_time</th>\n",
       "      <th>mean_score_time</th>\n",
       "      <th>std_score_time</th>\n",
       "      <th>param_classifier</th>\n",
       "      <th>param_classifier__class_weight</th>\n",
       "      <th>param_classifier__max_depth</th>\n",
       "      <th>param_classifier__n_estimators</th>\n",
       "      <th>param_classifier__C</th>\n",
       "      <th>param_classifier__penalty</th>\n",
       "      <th>...</th>\n",
       "      <th>param_classifier__gamma</th>\n",
       "      <th>param_classifier__min_child_weight</th>\n",
       "      <th>param_classifier__subsample</th>\n",
       "      <th>params</th>\n",
       "      <th>split0_test_score</th>\n",
       "      <th>split1_test_score</th>\n",
       "      <th>split2_test_score</th>\n",
       "      <th>mean_test_score</th>\n",
       "      <th>std_test_score</th>\n",
       "      <th>rank_test_score</th>\n",
       "    </tr>\n",
       "  </thead>\n",
       "  <tbody>\n",
       "    <tr>\n",
       "      <th>0</th>\n",
       "      <td>0.904733</td>\n",
       "      <td>0.061506</td>\n",
       "      <td>0.065520</td>\n",
       "      <td>0.005961</td>\n",
       "      <td>RandomForestClassifier()</td>\n",
       "      <td>None</td>\n",
       "      <td>5</td>\n",
       "      <td>10</td>\n",
       "      <td>NaN</td>\n",
       "      <td>NaN</td>\n",
       "      <td>...</td>\n",
       "      <td>NaN</td>\n",
       "      <td>NaN</td>\n",
       "      <td>NaN</td>\n",
       "      <td>{'classifier': RandomForestClassifier(), 'clas...</td>\n",
       "      <td>0.831628</td>\n",
       "      <td>0.831625</td>\n",
       "      <td>0.822737</td>\n",
       "      <td>0.828663</td>\n",
       "      <td>0.004191</td>\n",
       "      <td>441</td>\n",
       "    </tr>\n",
       "    <tr>\n",
       "      <th>1</th>\n",
       "      <td>4.587092</td>\n",
       "      <td>0.072317</td>\n",
       "      <td>0.200418</td>\n",
       "      <td>0.005897</td>\n",
       "      <td>RandomForestClassifier()</td>\n",
       "      <td>None</td>\n",
       "      <td>5</td>\n",
       "      <td>50</td>\n",
       "      <td>NaN</td>\n",
       "      <td>NaN</td>\n",
       "      <td>...</td>\n",
       "      <td>NaN</td>\n",
       "      <td>NaN</td>\n",
       "      <td>NaN</td>\n",
       "      <td>{'classifier': RandomForestClassifier(), 'clas...</td>\n",
       "      <td>0.834113</td>\n",
       "      <td>0.834220</td>\n",
       "      <td>0.828597</td>\n",
       "      <td>0.832310</td>\n",
       "      <td>0.002626</td>\n",
       "      <td>434</td>\n",
       "    </tr>\n",
       "    <tr>\n",
       "      <th>2</th>\n",
       "      <td>9.084054</td>\n",
       "      <td>0.157276</td>\n",
       "      <td>0.382171</td>\n",
       "      <td>0.001642</td>\n",
       "      <td>RandomForestClassifier()</td>\n",
       "      <td>None</td>\n",
       "      <td>5</td>\n",
       "      <td>100</td>\n",
       "      <td>NaN</td>\n",
       "      <td>NaN</td>\n",
       "      <td>...</td>\n",
       "      <td>NaN</td>\n",
       "      <td>NaN</td>\n",
       "      <td>NaN</td>\n",
       "      <td>{'classifier': RandomForestClassifier(), 'clas...</td>\n",
       "      <td>0.834459</td>\n",
       "      <td>0.834766</td>\n",
       "      <td>0.827907</td>\n",
       "      <td>0.832377</td>\n",
       "      <td>0.003164</td>\n",
       "      <td>433</td>\n",
       "    </tr>\n",
       "    <tr>\n",
       "      <th>3</th>\n",
       "      <td>22.945973</td>\n",
       "      <td>0.989263</td>\n",
       "      <td>0.947262</td>\n",
       "      <td>0.057958</td>\n",
       "      <td>RandomForestClassifier()</td>\n",
       "      <td>None</td>\n",
       "      <td>5</td>\n",
       "      <td>250</td>\n",
       "      <td>NaN</td>\n",
       "      <td>NaN</td>\n",
       "      <td>...</td>\n",
       "      <td>NaN</td>\n",
       "      <td>NaN</td>\n",
       "      <td>NaN</td>\n",
       "      <td>{'classifier': RandomForestClassifier(), 'clas...</td>\n",
       "      <td>0.834425</td>\n",
       "      <td>0.834678</td>\n",
       "      <td>0.828445</td>\n",
       "      <td>0.832516</td>\n",
       "      <td>0.002880</td>\n",
       "      <td>432</td>\n",
       "    </tr>\n",
       "    <tr>\n",
       "      <th>4</th>\n",
       "      <td>1.881963</td>\n",
       "      <td>0.189961</td>\n",
       "      <td>0.085875</td>\n",
       "      <td>0.010080</td>\n",
       "      <td>RandomForestClassifier()</td>\n",
       "      <td>None</td>\n",
       "      <td>10</td>\n",
       "      <td>10</td>\n",
       "      <td>NaN</td>\n",
       "      <td>NaN</td>\n",
       "      <td>...</td>\n",
       "      <td>NaN</td>\n",
       "      <td>NaN</td>\n",
       "      <td>NaN</td>\n",
       "      <td>{'classifier': RandomForestClassifier(), 'clas...</td>\n",
       "      <td>0.840553</td>\n",
       "      <td>0.844387</td>\n",
       "      <td>0.835940</td>\n",
       "      <td>0.840293</td>\n",
       "      <td>0.003453</td>\n",
       "      <td>419</td>\n",
       "    </tr>\n",
       "  </tbody>\n",
       "</table>\n",
       "<p>5 rows × 27 columns</p>\n",
       "</div>"
      ],
      "text/plain": [
       "   mean_fit_time  std_fit_time  mean_score_time  std_score_time  \\\n",
       "0       0.904733      0.061506         0.065520        0.005961   \n",
       "1       4.587092      0.072317         0.200418        0.005897   \n",
       "2       9.084054      0.157276         0.382171        0.001642   \n",
       "3      22.945973      0.989263         0.947262        0.057958   \n",
       "4       1.881963      0.189961         0.085875        0.010080   \n",
       "\n",
       "           param_classifier param_classifier__class_weight  \\\n",
       "0  RandomForestClassifier()                           None   \n",
       "1  RandomForestClassifier()                           None   \n",
       "2  RandomForestClassifier()                           None   \n",
       "3  RandomForestClassifier()                           None   \n",
       "4  RandomForestClassifier()                           None   \n",
       "\n",
       "  param_classifier__max_depth param_classifier__n_estimators  \\\n",
       "0                           5                             10   \n",
       "1                           5                             50   \n",
       "2                           5                            100   \n",
       "3                           5                            250   \n",
       "4                          10                             10   \n",
       "\n",
       "  param_classifier__C param_classifier__penalty  ... param_classifier__gamma  \\\n",
       "0                 NaN                       NaN  ...                     NaN   \n",
       "1                 NaN                       NaN  ...                     NaN   \n",
       "2                 NaN                       NaN  ...                     NaN   \n",
       "3                 NaN                       NaN  ...                     NaN   \n",
       "4                 NaN                       NaN  ...                     NaN   \n",
       "\n",
       "  param_classifier__min_child_weight param_classifier__subsample  \\\n",
       "0                                NaN                         NaN   \n",
       "1                                NaN                         NaN   \n",
       "2                                NaN                         NaN   \n",
       "3                                NaN                         NaN   \n",
       "4                                NaN                         NaN   \n",
       "\n",
       "                                              params split0_test_score  \\\n",
       "0  {'classifier': RandomForestClassifier(), 'clas...          0.831628   \n",
       "1  {'classifier': RandomForestClassifier(), 'clas...          0.834113   \n",
       "2  {'classifier': RandomForestClassifier(), 'clas...          0.834459   \n",
       "3  {'classifier': RandomForestClassifier(), 'clas...          0.834425   \n",
       "4  {'classifier': RandomForestClassifier(), 'clas...          0.840553   \n",
       "\n",
       "  split1_test_score split2_test_score mean_test_score std_test_score  \\\n",
       "0          0.831625          0.822737        0.828663       0.004191   \n",
       "1          0.834220          0.828597        0.832310       0.002626   \n",
       "2          0.834766          0.827907        0.832377       0.003164   \n",
       "3          0.834678          0.828445        0.832516       0.002880   \n",
       "4          0.844387          0.835940        0.840293       0.003453   \n",
       "\n",
       "  rank_test_score  \n",
       "0             441  \n",
       "1             434  \n",
       "2             433  \n",
       "3             432  \n",
       "4             419  \n",
       "\n",
       "[5 rows x 27 columns]"
      ]
     },
     "execution_count": 35,
     "metadata": {},
     "output_type": "execute_result"
    }
   ],
   "source": [
    "# Grid search results to DataFrame\n",
    "pd.DataFrame(data=grid.cv_results_).head()"
   ]
  },
  {
   "cell_type": "code",
   "execution_count": null,
   "metadata": {},
   "outputs": [
    {
     "name": "stdout",
     "output_type": "stream",
     "text": [
      "Best Parameters \n",
      "======================================\n",
      "{'classifier': XGBClassifier(base_score=None, booster=None, callbacks=None,\n",
      "              colsample_bylevel=None, colsample_bynode=None,\n",
      "              colsample_bytree=0.8, early_stopping_rounds=None,\n",
      "              enable_categorical=False, eval_metric=None, feature_types=None,\n",
      "              gamma=5, gpu_id=None, grow_policy=None, importance_type=None,\n",
      "              interaction_constraints=None, learning_rate=None, max_bin=None,\n",
      "              max_cat_threshold=None, max_cat_to_onehot=None,\n",
      "              max_delta_step=None, max_depth=3, max_leaves=None,\n",
      "              min_child_weight=1, missing=nan, monotone_constraints=None,\n",
      "              n_estimators=100, n_jobs=None, num_parallel_tree=None,\n",
      "              predictor=None, random_state=None, ...), 'classifier__colsample_bytree': 0.8, 'classifier__gamma': 5, 'classifier__max_depth': 3, 'classifier__min_child_weight': 1, 'classifier__subsample': 1.0} \n",
      "\n",
      "Best Pipeline \n",
      "======================================\n",
      "Pipeline(steps=[('classifier',\n",
      "                 XGBClassifier(base_score=0.5, booster='gbtree', callbacks=None,\n",
      "                               colsample_bylevel=1, colsample_bynode=1,\n",
      "                               colsample_bytree=0.8, early_stopping_rounds=None,\n",
      "                               enable_categorical=False, eval_metric=None,\n",
      "                               feature_types=None, gamma=5, gpu_id=-1,\n",
      "                               grow_policy='depthwise', importance_type=None,\n",
      "                               interaction_constraints='',\n",
      "                               learning_rate=0.300000012, max_bin=256,\n",
      "                               max_cat_threshold=64, max_cat_to_onehot=4,\n",
      "                               max_delta_step=0, max_depth=3, max_leaves=0,\n",
      "                               min_child_weight=1, missing=nan,\n",
      "                               monotone_constraints='()', n_estimators=100,\n",
      "                               n_jobs=0, num_parallel_tree=1, predictor='auto',\n",
      "                               random_state=0, ...))]) \n",
      "\n",
      "Best Score \n",
      "======================================\n",
      "Score: 86.48%\n"
     ]
    }
   ],
   "source": [
    "# Access the best set of parameters\n",
    "best_params = grid.best_params_\n",
    "print('Best Parameters \\n======================================')\n",
    "print(best_params, '\\n')\n",
    "\n",
    "# Stores the optimum model in best_pipe\n",
    "best_pipe = grid.best_estimator_\n",
    "print('Best Pipeline \\n======================================')\n",
    "print(best_pipe, '\\n')\n",
    "\n",
    "# Best score for the best model\n",
    "best_score = grid.best_score_\n",
    "print('Best Score \\n======================================')\n",
    "print(f'Score: {round(best_score, 4) * 100}%')"
   ]
  },
  {
   "attachments": {},
   "cell_type": "markdown",
   "metadata": {},
   "source": [
    "With the use of GridSearch, and our classifier pipeline, we were able to score 664 candidates, totalling 1992 fits. Allowing us to find the best model and hyperparameters to use, as well as the best score achieved. Which were:\n",
    "- XGBoost (colsample_bytree': 0.8, 'gamma': 5, 'max_depth': 3, 'min_child_weight': 1, 'subsample': 1.0)\n",
    "- Wth a train score 86.48%!\n",
    "\n",
    "We will now use this model for deployment and push it to cloud for user predictions."
   ]
  },
  {
   "cell_type": "markdown",
   "metadata": {},
   "source": [
    "### 8. Model Deployment"
   ]
  },
  {
   "attachments": {},
   "cell_type": "markdown",
   "metadata": {},
   "source": [
    "Below is the pipeline we will persist and use for deployment using Flask and AWS. We can also ensure the pipeline is correct when pickled, and test our model with some sample predictions."
   ]
  },
  {
   "cell_type": "code",
   "execution_count": 1,
   "metadata": {},
   "outputs": [
    {
     "name": "stdout",
     "output_type": "stream",
     "text": [
      "[0, 0, 0, 0, 0, 0, 0, 0, 0, 0, 0, 0, 0, 0, 0, 0, 0, 0, 0, 0, 0, 0, 0, 0, 0, 0, 0, 0, 0, 0, 0, 0, 0, 0, 1, 0, 0, 1, 0, 0, 0, 0, 0, 0, 0, 0, 0, 0, 0, 0]\n"
     ]
    },
    {
     "data": {
      "text/html": [
       "<style>#sk-container-id-1 {color: black;background-color: white;}#sk-container-id-1 pre{padding: 0;}#sk-container-id-1 div.sk-toggleable {background-color: white;}#sk-container-id-1 label.sk-toggleable__label {cursor: pointer;display: block;width: 100%;margin-bottom: 0;padding: 0.3em;box-sizing: border-box;text-align: center;}#sk-container-id-1 label.sk-toggleable__label-arrow:before {content: \"▸\";float: left;margin-right: 0.25em;color: #696969;}#sk-container-id-1 label.sk-toggleable__label-arrow:hover:before {color: black;}#sk-container-id-1 div.sk-estimator:hover label.sk-toggleable__label-arrow:before {color: black;}#sk-container-id-1 div.sk-toggleable__content {max-height: 0;max-width: 0;overflow: hidden;text-align: left;background-color: #f0f8ff;}#sk-container-id-1 div.sk-toggleable__content pre {margin: 0.2em;color: black;border-radius: 0.25em;background-color: #f0f8ff;}#sk-container-id-1 input.sk-toggleable__control:checked~div.sk-toggleable__content {max-height: 200px;max-width: 100%;overflow: auto;}#sk-container-id-1 input.sk-toggleable__control:checked~label.sk-toggleable__label-arrow:before {content: \"▾\";}#sk-container-id-1 div.sk-estimator input.sk-toggleable__control:checked~label.sk-toggleable__label {background-color: #d4ebff;}#sk-container-id-1 div.sk-label input.sk-toggleable__control:checked~label.sk-toggleable__label {background-color: #d4ebff;}#sk-container-id-1 input.sk-hidden--visually {border: 0;clip: rect(1px 1px 1px 1px);clip: rect(1px, 1px, 1px, 1px);height: 1px;margin: -1px;overflow: hidden;padding: 0;position: absolute;width: 1px;}#sk-container-id-1 div.sk-estimator {font-family: monospace;background-color: #f0f8ff;border: 1px dotted black;border-radius: 0.25em;box-sizing: border-box;margin-bottom: 0.5em;}#sk-container-id-1 div.sk-estimator:hover {background-color: #d4ebff;}#sk-container-id-1 div.sk-parallel-item::after {content: \"\";width: 100%;border-bottom: 1px solid gray;flex-grow: 1;}#sk-container-id-1 div.sk-label:hover label.sk-toggleable__label {background-color: #d4ebff;}#sk-container-id-1 div.sk-serial::before {content: \"\";position: absolute;border-left: 1px solid gray;box-sizing: border-box;top: 0;bottom: 0;left: 50%;z-index: 0;}#sk-container-id-1 div.sk-serial {display: flex;flex-direction: column;align-items: center;background-color: white;padding-right: 0.2em;padding-left: 0.2em;position: relative;}#sk-container-id-1 div.sk-item {position: relative;z-index: 1;}#sk-container-id-1 div.sk-parallel {display: flex;align-items: stretch;justify-content: center;background-color: white;position: relative;}#sk-container-id-1 div.sk-item::before, #sk-container-id-1 div.sk-parallel-item::before {content: \"\";position: absolute;border-left: 1px solid gray;box-sizing: border-box;top: 0;bottom: 0;left: 50%;z-index: -1;}#sk-container-id-1 div.sk-parallel-item {display: flex;flex-direction: column;z-index: 1;position: relative;background-color: white;}#sk-container-id-1 div.sk-parallel-item:first-child::after {align-self: flex-end;width: 50%;}#sk-container-id-1 div.sk-parallel-item:last-child::after {align-self: flex-start;width: 50%;}#sk-container-id-1 div.sk-parallel-item:only-child::after {width: 0;}#sk-container-id-1 div.sk-dashed-wrapped {border: 1px dashed gray;margin: 0 0.4em 0.5em 0.4em;box-sizing: border-box;padding-bottom: 0.4em;background-color: white;}#sk-container-id-1 div.sk-label label {font-family: monospace;font-weight: bold;display: inline-block;line-height: 1.2em;}#sk-container-id-1 div.sk-label-container {text-align: center;}#sk-container-id-1 div.sk-container {/* jupyter's `normalize.less` sets `[hidden] { display: none; }` but bootstrap.min.css set `[hidden] { display: none !important; }` so we also need the `!important` here to be able to override the default hidden behavior on the sphinx rendered scikit-learn.org. See: https://github.com/scikit-learn/scikit-learn/issues/21755 */display: inline-block !important;position: relative;}#sk-container-id-1 div.sk-text-repr-fallback {display: none;}</style><div id=\"sk-container-id-1\" class=\"sk-top-container\"><div class=\"sk-text-repr-fallback\"><pre>Pipeline(steps=[(&#x27;scaler&#x27;, MinMaxScaler()),\n",
       "                (&#x27;classifier&#x27;,\n",
       "                 XGBClassifier(base_score=0.5, booster=&#x27;gbtree&#x27;, callbacks=None,\n",
       "                               colsample_bylevel=1, colsample_bynode=1,\n",
       "                               colsample_bytree=0.8, early_stopping_rounds=None,\n",
       "                               enable_categorical=False, eval_metric=None,\n",
       "                               feature_types=None, gamma=5, gpu_id=-1,\n",
       "                               grow_policy=&#x27;depthwise&#x27;, importance_type=None,\n",
       "                               interaction_constraints=&#x27;&#x27;,\n",
       "                               learning_rate=0.300000012, max_bin=256,\n",
       "                               max_cat_threshold=64, max_cat_to_onehot=4,\n",
       "                               max_delta_step=0, max_depth=3, max_leaves=0,\n",
       "                               min_child_weight=1, missing=nan,\n",
       "                               monotone_constraints=&#x27;()&#x27;, n_estimators=100,\n",
       "                               n_jobs=0, num_parallel_tree=1, predictor=&#x27;auto&#x27;,\n",
       "                               random_state=0, ...))])</pre><b>In a Jupyter environment, please rerun this cell to show the HTML representation or trust the notebook. <br />On GitHub, the HTML representation is unable to render, please try loading this page with nbviewer.org.</b></div><div class=\"sk-container\" hidden><div class=\"sk-item sk-dashed-wrapped\"><div class=\"sk-label-container\"><div class=\"sk-label sk-toggleable\"><input class=\"sk-toggleable__control sk-hidden--visually\" id=\"sk-estimator-id-1\" type=\"checkbox\" ><label for=\"sk-estimator-id-1\" class=\"sk-toggleable__label sk-toggleable__label-arrow\">Pipeline</label><div class=\"sk-toggleable__content\"><pre>Pipeline(steps=[(&#x27;scaler&#x27;, MinMaxScaler()),\n",
       "                (&#x27;classifier&#x27;,\n",
       "                 XGBClassifier(base_score=0.5, booster=&#x27;gbtree&#x27;, callbacks=None,\n",
       "                               colsample_bylevel=1, colsample_bynode=1,\n",
       "                               colsample_bytree=0.8, early_stopping_rounds=None,\n",
       "                               enable_categorical=False, eval_metric=None,\n",
       "                               feature_types=None, gamma=5, gpu_id=-1,\n",
       "                               grow_policy=&#x27;depthwise&#x27;, importance_type=None,\n",
       "                               interaction_constraints=&#x27;&#x27;,\n",
       "                               learning_rate=0.300000012, max_bin=256,\n",
       "                               max_cat_threshold=64, max_cat_to_onehot=4,\n",
       "                               max_delta_step=0, max_depth=3, max_leaves=0,\n",
       "                               min_child_weight=1, missing=nan,\n",
       "                               monotone_constraints=&#x27;()&#x27;, n_estimators=100,\n",
       "                               n_jobs=0, num_parallel_tree=1, predictor=&#x27;auto&#x27;,\n",
       "                               random_state=0, ...))])</pre></div></div></div><div class=\"sk-serial\"><div class=\"sk-item\"><div class=\"sk-estimator sk-toggleable\"><input class=\"sk-toggleable__control sk-hidden--visually\" id=\"sk-estimator-id-2\" type=\"checkbox\" ><label for=\"sk-estimator-id-2\" class=\"sk-toggleable__label sk-toggleable__label-arrow\">MinMaxScaler</label><div class=\"sk-toggleable__content\"><pre>MinMaxScaler()</pre></div></div></div><div class=\"sk-item\"><div class=\"sk-estimator sk-toggleable\"><input class=\"sk-toggleable__control sk-hidden--visually\" id=\"sk-estimator-id-3\" type=\"checkbox\" ><label for=\"sk-estimator-id-3\" class=\"sk-toggleable__label sk-toggleable__label-arrow\">XGBClassifier</label><div class=\"sk-toggleable__content\"><pre>XGBClassifier(base_score=0.5, booster=&#x27;gbtree&#x27;, callbacks=None,\n",
       "              colsample_bylevel=1, colsample_bynode=1, colsample_bytree=0.8,\n",
       "              early_stopping_rounds=None, enable_categorical=False,\n",
       "              eval_metric=None, feature_types=None, gamma=5, gpu_id=-1,\n",
       "              grow_policy=&#x27;depthwise&#x27;, importance_type=None,\n",
       "              interaction_constraints=&#x27;&#x27;, learning_rate=0.300000012,\n",
       "              max_bin=256, max_cat_threshold=64, max_cat_to_onehot=4,\n",
       "              max_delta_step=0, max_depth=3, max_leaves=0, min_child_weight=1,\n",
       "              missing=nan, monotone_constraints=&#x27;()&#x27;, n_estimators=100,\n",
       "              n_jobs=0, num_parallel_tree=1, predictor=&#x27;auto&#x27;, random_state=0, ...)</pre></div></div></div></div></div></div></div>"
      ],
      "text/plain": [
       "Pipeline(steps=[('scaler', MinMaxScaler()),\n",
       "                ('classifier',\n",
       "                 XGBClassifier(base_score=0.5, booster='gbtree', callbacks=None,\n",
       "                               colsample_bylevel=1, colsample_bynode=1,\n",
       "                               colsample_bytree=0.8, early_stopping_rounds=None,\n",
       "                               enable_categorical=False, eval_metric=None,\n",
       "                               feature_types=None, gamma=5, gpu_id=-1,\n",
       "                               grow_policy='depthwise', importance_type=None,\n",
       "                               interaction_constraints='',\n",
       "                               learning_rate=0.300000012, max_bin=256,\n",
       "                               max_cat_threshold=64, max_cat_to_onehot=4,\n",
       "                               max_delta_step=0, max_depth=3, max_leaves=0,\n",
       "                               min_child_weight=1, missing=nan,\n",
       "                               monotone_constraints='()', n_estimators=100,\n",
       "                               n_jobs=0, num_parallel_tree=1, predictor='auto',\n",
       "                               random_state=0, ...))])"
      ]
     },
     "execution_count": 1,
     "metadata": {},
     "output_type": "execute_result"
    }
   ],
   "source": [
    "import pandas as pd\n",
    "import numpy as np\n",
    "import pickle as pkl\n",
    "from xgboost import XGBClassifier\n",
    "from sklearn.preprocessing import MinMaxScaler\n",
    "from sklearn.model_selection import train_test_split\n",
    "from sklearn.pipeline import Pipeline\n",
    "\n",
    "# Load data\n",
    "credit = pd.read_csv('../data/credit_c.csv')\n",
    "\n",
    "# Create train and test sets\n",
    "X = credit.iloc[:,0:-1]\n",
    "y = credit.iloc[:,-1]\n",
    "\n",
    "X_train, X_test, y_train, y_test = train_test_split(X, y, test_size=0.2, random_state=42, stratify=y)\n",
    "\n",
    "# Set pipeline parameters\n",
    "scaler = MinMaxScaler()\n",
    "clf = XGBClassifier(colsample_bytree= 0.8, gamma= 5, \n",
    "                    max_depth= 3, min_child_weight= 1, \n",
    "                    subsample= 1.0)\n",
    "\n",
    "# Create pipeline\n",
    "pipe = Pipeline(steps=[\n",
    "                ('scaler', scaler),\n",
    "                ('classifier', clf) \n",
    "                ])\n",
    "\n",
    "# Fit pipeline\n",
    "pipe.fit(X_train, y_train)\n",
    "\n",
    "# Save pipe to disk\n",
    "pkl.dump(pipe, open('../app/pipe.pkl','wb'))\n",
    "\n",
    "# Load pipe from disk\n",
    "pipe = pkl.load(open('../app/pipe.pkl', 'rb'))\n",
    "\n",
    "# Predict test data with pipeline\n",
    "y_pred = pipe.predict(X_test)\n",
    "predictions = [round(value) for value in y_pred]\n",
    "print(predictions[0:50])\n",
    "pipe"
   ]
  },
  {
   "cell_type": "markdown",
   "metadata": {},
   "source": [
    "### Pipeline Sample Prediction Testing"
   ]
  },
  {
   "cell_type": "code",
   "execution_count": 24,
   "metadata": {},
   "outputs": [
    {
     "name": "stdout",
     "output_type": "stream",
     "text": [
      "1\n"
     ]
    },
    {
     "data": {
      "text/plain": [
       "0"
      ]
     },
     "execution_count": 24,
     "metadata": {},
     "output_type": "execute_result"
    }
   ],
   "source": [
    "# Positive target variable result - will likely default\n",
    "values = np.array([[37.0, 2925.0, 0.0, 4.0, 1.0, 1.12, 0.48, 1.0, 1.0, 3.0]])\n",
    "data = pd.DataFrame(data=values, columns=X_test.columns)\n",
    "pred = pipe.predict(data)\n",
    "print(pred[0])\n",
    "\n",
    "# Negative target variable result - will likely not default\n",
    "values = np.array([[59.0, 4500.0, 0.0, 11.0, 2.0, 0.75, 0.21, 2.0, 0.0, 1.0]])\n",
    "data = pd.DataFrame(data=values, columns=X_test.columns)\n",
    "pred = pipe.predict(data)\n",
    "pred[0]"
   ]
  },
  {
   "cell_type": "code",
   "execution_count": 3,
   "metadata": {},
   "outputs": [
    {
     "data": {
      "text/html": [
       "<div>\n",
       "<style scoped>\n",
       "    .dataframe tbody tr th:only-of-type {\n",
       "        vertical-align: middle;\n",
       "    }\n",
       "\n",
       "    .dataframe tbody tr th {\n",
       "        vertical-align: top;\n",
       "    }\n",
       "\n",
       "    .dataframe thead th {\n",
       "        text-align: right;\n",
       "    }\n",
       "</style>\n",
       "<table border=\"1\" class=\"dataframe\">\n",
       "  <thead>\n",
       "    <tr style=\"text-align: right;\">\n",
       "      <th></th>\n",
       "      <th>Age</th>\n",
       "      <th>Monthly_Income</th>\n",
       "      <th>Number_Dependents</th>\n",
       "      <th>Number_Open_Credit_Lines</th>\n",
       "      <th>Number_Real_Estate_Loans</th>\n",
       "      <th>Revolving_Utilization_Of_Unsecured_Lines</th>\n",
       "      <th>Debt_Ratio</th>\n",
       "      <th>Times_30_Days_Late_Not_Worse</th>\n",
       "      <th>Times_60_Days_Late_Not_Worse</th>\n",
       "      <th>Times_90_Days_Late</th>\n",
       "    </tr>\n",
       "  </thead>\n",
       "  <tbody>\n",
       "    <tr>\n",
       "      <th>0</th>\n",
       "      <td>59.0</td>\n",
       "      <td>4500.0</td>\n",
       "      <td>0.0</td>\n",
       "      <td>11.0</td>\n",
       "      <td>2.0</td>\n",
       "      <td>0.85</td>\n",
       "      <td>0.41</td>\n",
       "      <td>3.0</td>\n",
       "      <td>0.0</td>\n",
       "      <td>1.0</td>\n",
       "    </tr>\n",
       "  </tbody>\n",
       "</table>\n",
       "</div>"
      ],
      "text/plain": [
       "    Age  Monthly_Income  Number_Dependents  Number_Open_Credit_Lines  \\\n",
       "0  59.0          4500.0                0.0                      11.0   \n",
       "\n",
       "   Number_Real_Estate_Loans  Revolving_Utilization_Of_Unsecured_Lines  \\\n",
       "0                       2.0                                      0.85   \n",
       "\n",
       "   Debt_Ratio  Times_30_Days_Late_Not_Worse  Times_60_Days_Late_Not_Worse  \\\n",
       "0        0.41                           3.0                           0.0   \n",
       "\n",
       "   Times_90_Days_Late  \n",
       "0                 1.0  "
      ]
     },
     "execution_count": 3,
     "metadata": {},
     "output_type": "execute_result"
    }
   ],
   "source": [
    "data"
   ]
  }
 ],
 "metadata": {
  "kernelspec": {
   "display_name": "project_env",
   "language": "python",
   "name": "python3"
  },
  "language_info": {
   "codemirror_mode": {
    "name": "ipython",
    "version": 3
   },
   "file_extension": ".py",
   "mimetype": "text/x-python",
   "name": "python",
   "nbconvert_exporter": "python",
   "pygments_lexer": "ipython3",
   "version": "3.9.13"
  },
  "orig_nbformat": 4,
  "vscode": {
   "interpreter": {
    "hash": "cab4d223de3b4302c2a639a020fd916bf60f907757187d366ed338efdc50eea1"
   }
  }
 },
 "nbformat": 4,
 "nbformat_minor": 2
}
